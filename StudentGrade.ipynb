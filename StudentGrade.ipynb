{
 "cells": [
  {
   "cell_type": "markdown",
   "id": "b0c48681",
   "metadata": {},
   "source": [
    "# FINAL STUDENT GRADE CALCULATION"
   ]
  },
  {
   "cell_type": "code",
   "execution_count": 75,
   "id": "520de7bb",
   "metadata": {},
   "outputs": [],
   "source": [
    "#Importing Libraries\n",
    "\n",
    "from pathlib import Path\n",
    "import pandas as pd\n",
    "import numpy as np\n",
    "import matplotlib.pyplot as plt\n",
    "import scipy.stats"
   ]
  },
  {
   "cell_type": "code",
   "execution_count": 76,
   "id": "39cee4ab",
   "metadata": {},
   "outputs": [],
   "source": [
    "#Loading the data csv files\n",
    "\n",
    "roster = pd.read_csv( \"roster.csv\",\n",
    "    converters={\"NetID\": str.lower, \"Email Address\": str.lower},\n",
    "    usecols=[\"Section\", \"Email Address\", \"NetID\"],\n",
    "    index_col=\"NetID\",\n",
    ")\n",
    "\n",
    "hw_exam_grades = pd.read_csv(\"hw_exam_grades.csv\",\n",
    "    converters={\"SID\": str.lower},\n",
    "    usecols=lambda x: \"Submission\" not in x,\n",
    "    index_col=\"SID\",\n",
    ")\n",
    "\n",
    "quiz1 = pd.read_csv(\"quiz_1_grades.csv\",converters={\"Email\": str.lower},\n",
    "        index_col=[\"Email\"],\n",
    "        usecols=[\"Email\", \"Grade\"],\n",
    "    )\n",
    "quiz2 = pd.read_csv(\"quiz_2_grades.csv\",converters={\"Email\": str.lower},\n",
    "        index_col=[\"Email\"],\n",
    "        usecols=[\"Email\", \"Grade\"],\n",
    "    )"
   ]
  },
  {
   "cell_type": "code",
   "execution_count": 104,
   "id": "cbb49988",
   "metadata": {},
   "outputs": [],
   "source": [
    "#Merging all the dataframes\n",
    "\n",
    "final_data = pd.merge(\n",
    "    roster,\n",
    "    hw_exam_grades,\n",
    "    left_index=True,\n",
    "    right_index=True,\n",
    ")\n",
    "final_data = pd.merge(\n",
    "    final_data, quiz1, left_on=\"Email Address\", right_index=True\n",
    ")\n",
    "final_data = pd.merge(\n",
    "    final_data, quiz2, left_on=\"Email Address\", right_index=True\n",
    ")\n",
    "final_data = final_data.fillna(0)"
   ]
  },
  {
   "cell_type": "code",
   "execution_count": 105,
   "id": "96aec79a",
   "metadata": {},
   "outputs": [],
   "source": [
    "#Calculating Grades\n",
    "\n",
    "n_exams = 3\n",
    "for n in range(1, n_exams + 1):\n",
    "    final_data[f\"Exam {n} Score\"] = (\n",
    "        final_data[f\"Exam {n}\"] / final_data[f\"Exam {n} - Max Points\"]\n",
    "    )\n",
    "\n",
    "homework_scores = final_data.filter(regex=r\"^Homework \\d\\d?$\", axis=1)\n",
    "homework_max_points = final_data.filter(regex=r\"^Homework \\d\\d? -\", axis=1)\n",
    "\n",
    "sum_of_hw_scores = homework_scores.sum(axis=1)\n",
    "sum_of_hw_max = homework_max_points.sum(axis=1)\n",
    "final_data[\"Total Homework\"] = sum_of_hw_scores / sum_of_hw_max\n",
    "\n",
    "hw_max_renamed = homework_max_points.set_axis(homework_scores.columns, axis=1)\n",
    "average_hw_scores = (homework_scores / hw_max_renamed).sum(axis=1)\n",
    "final_data[\"Average Homework\"] = average_hw_scores / homework_scores.shape[1]\n",
    "\n",
    "final_data[\"Homework Score\"] = final_data[\n",
    "    [\"Total Homework\", \"Average Homework\"]\n",
    "].max(axis=1)\n",
    "\n",
    "quiz_scores = final_data.filter(regex=r\"^Quiz \\d$\", axis=1)\n",
    "quiz_max_points = pd.Series(\n",
    "    {\"Quiz 1\": 11, \"Quiz 2\": 15}\n",
    ")\n",
    "\n",
    "sum_of_quiz_scores = quiz_scores.sum(axis=1)\n",
    "sum_of_quiz_max = quiz_max_points.sum()\n",
    "final_data[\"Total Quizzes\"] = sum_of_quiz_scores / sum_of_quiz_max\n",
    "\n",
    "average_quiz_scores = (quiz_scores / quiz_max_points).sum(axis=1)\n",
    "final_data[\"Average Quizzes\"] = average_quiz_scores / quiz_scores.shape[1]\n",
    "\n",
    "final_data[\"Quiz Score\"] = final_data[\n",
    "    [\"Total Quizzes\", \"Average Quizzes\"]\n",
    "].max(axis=1)\n",
    "\n",
    "weightings = pd.Series(\n",
    "    {\n",
    "        \"Exam 1 Score\": 0.25,\n",
    "        \"Exam 2 Score\": 0.25,\n",
    "        \"Exam 3 Score\": 0.25,\n",
    "        \"Quiz Score\": 0.15,\n",
    "        \"Homework Score\": 0.10,\n",
    "    }\n",
    ")\n",
    "\n",
    "final_data[\"Final Score\"] = (final_data[weightings.index] * weightings).sum(\n",
    "    axis=1\n",
    ")\n",
    "final_data[\"Ceiling Score\"] = np.ceil(final_data[\"Final Score\"] * 100)\n",
    "\n",
    "grades = {\n",
    "    90: \"A\",\n",
    "    80: \"B\",\n",
    "    70: \"C\",\n",
    "    60: \"D\",\n",
    "    0: \"F\",\n",
    "}\n",
    "\n",
    "\n",
    "def grade_mapping(value):\n",
    "    \"\"\"Map numerical grade to letter grade.\"\"\"\n",
    "    for key, letter in grades.items():\n",
    "        if value >= key:\n",
    "            return letter\n",
    "\n",
    "\n",
    "letter_grades = final_data[\"Ceiling Score\"].map(grade_mapping)\n",
    "final_data[\"Final Grade\"] = pd.Categorical(\n",
    "    letter_grades, categories=grades.values(), ordered=True\n",
    ")"
   ]
  },
  {
   "cell_type": "code",
   "execution_count": 106,
   "id": "bb1d7866",
   "metadata": {},
   "outputs": [
    {
     "name": "stdout",
     "output_type": "stream",
     "text": [
      "In Section 1 there are 56 students saved to file Section 1 Grades.csv.\n",
      "In Section 2 there are 51 students saved to file Section 2 Grades.csv.\n",
      "In Section 3 there are 43 students saved to file Section 3 Grades.csv.\n"
     ]
    }
   ],
   "source": [
    "#Grouping the data\n",
    "\n",
    "for section, table in final_data.groupby(\"Section\"):\n",
    "    section_file = f\"Section {section} Grades.csv\"\n",
    "    num_students = table.shape[0]\n",
    "    print(\n",
    "        f\"In Section {section} there are {num_students} students saved to \"\n",
    "        f\"file {section_file}.\"\n",
    "    )\n",
    "    table.sort_values(by=[\"Last Name\", \"First Name\"]).to_csv(section_file)"
   ]
  },
  {
   "cell_type": "code",
   "execution_count": 107,
   "id": "71517d16",
   "metadata": {},
   "outputs": [
    {
     "data": {
      "image/png": "[encoded data removed]",
      "text/plain": [
       "<Figure size 432x288 with 1 Axes>"
      ]
     },
     "metadata": {
      "needs_background": "light"
     },
     "output_type": "display_data"
    },
    {
     "data": {
      "image/png": "[encoded data removed]",
      "text/plain": [
       "<Figure size 432x288 with 1 Axes>"
      ]
     },
     "metadata": {
      "needs_background": "light"
     },
     "output_type": "display_data"
    }
   ],
   "source": [
    "#Plotting the data - STATISTICS\n",
    "\n",
    "grade_counts = final_data[\"Final Grade\"].value_counts().sort_index()\n",
    "grade_counts.plot.bar()\n",
    "plt.show()\n",
    "\n",
    "final_data[\"Final Score\"].plot.hist(bins=20, label=\"Histogram\")\n",
    "final_data[\"Final Score\"].plot.density(\n",
    "    linewidth=4, label=\"Kernel Density Estimate\"\n",
    ")\n",
    "\n",
    "final_mean = final_data[\"Final Score\"].mean()\n",
    "final_std = final_data[\"Final Score\"].std()\n",
    "x = np.linspace(final_mean - 5 * final_std, final_mean + 5 * final_std, 200)\n",
    "normal_dist = scipy.stats.norm.pdf(x, loc=final_mean, scale=final_std)\n",
    "plt.plot(x, normal_dist, label=\"Normal Distribution\", linewidth=4)\n",
    "plt.legend()\n",
    "plt.show()"
   ]
  },
  {
   "cell_type": "code",
   "execution_count": null,
   "id": "5dea38eb",
   "metadata": {},
   "outputs": [],
   "source": []
  }
 ],
 "metadata": {
  "kernelspec": {
   "display_name": "Python 3 (ipykernel)",
   "language": "python",
   "name": "python3"
  },
  "language_info": {
   "codemirror_mode": {
    "name": "ipython",
    "version": 3
   },
   "file_extension": ".py",
   "mimetype": "text/x-python",
   "name": "python",
   "nbconvert_exporter": "python",
   "pygments_lexer": "ipython3",
   "version": "3.9.12"
  }
 },
 "nbformat": 4,
 "nbformat_minor": 5
}
